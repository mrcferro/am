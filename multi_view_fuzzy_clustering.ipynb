{
 "cells": [
  {
   "cell_type": "code",
   "execution_count": null,
   "metadata": {
    "collapsed": true
   },
   "outputs": [],
   "source": [
    "Lendo os dados. Cada conjunto aqui sera uma view que sera utilizada para construir uma matriz de dissimilaridade\n",
    "Euclidiana. No total, serao 3 matrizes de dissimilaridade, todas com a mesma métrica (distância Euclidiana) mas\n",
    "uma para cada view."
   ]
  },
  {
   "cell_type": "code",
   "execution_count": 2,
   "metadata": {
    "collapsed": true
   },
   "outputs": [],
   "source": [
    "import math\n",
    "import numpy as np\n",
    "import pandas as pd\n",
    "\n",
    "dfac = pd.read_csv('dados/mfeat-fac', delim_whitespace=True, header=None)\n",
    "dfou = pd.read_csv('dados/mfeat-fou', delim_whitespace=True, header=None)\n",
    "dkar = pd.read_csv('dados/mfeat-kar', delim_whitespace=True, header=None)"
   ]
  },
  {
   "cell_type": "code",
   "execution_count": null,
   "metadata": {
    "collapsed": true
   },
   "outputs": [],
   "source": [
    "Calculando as matrizes de dissimilaridade para cada view."
   ]
  },
  {
   "cell_type": "code",
   "execution_count": 24,
   "metadata": {
    "collapsed": false
   },
   "outputs": [],
   "source": [
    "from sklearn.metrics.pairwise import euclidean_distances\n",
    "\n",
    "dfac_matrix = euclidean_distances(dfac, dfac)\n",
    "dfou_matrix = euclidean_distances(dfou, dfou)\n",
    "dkar_matrix = euclidean_distances(dkar, dkar)\n",
    "dist_matrixes = np.asarray([dfac_matrix, dfou_matrix, dkar_matrix])"
   ]
  },
  {
   "cell_type": "code",
   "execution_count": null,
   "metadata": {
    "collapsed": true
   },
   "outputs": [],
   "source": [
    "Segundo a documentaçao do scikit-learn, em algumas situacoes, por questoes de precisao, a matriz pode nao ser\n",
    "exatamente simetrica. Portanto, estou checando se cada matriz gerada e simetrica dentro de uma tolerancia de erro\n",
    "de 1e-8."
   ]
  },
  {
   "cell_type": "code",
   "execution_count": 13,
   "metadata": {
    "collapsed": false
   },
   "outputs": [
    {
     "name": "stdout",
     "output_type": "stream",
     "text": [
      "True\n",
      "True\n",
      "True\n"
     ]
    }
   ],
   "source": [
    "import numpy as np\n",
    "\n",
    "print(np.allclose(dfac_matrix, dfac_matrix.T, atol=1e-8))\n",
    "print(np.allclose(dfou_matrix, dfou_matrix.T, atol=1e-8))\n",
    "print(np.allclose(dkar_matrix, dkar_matrix.T, atol=1e-8))"
   ]
  },
  {
   "cell_type": "code",
   "execution_count": null,
   "metadata": {
    "collapsed": true
   },
   "outputs": [],
   "source": [
    "As matrizes geradas sao simetricas."
   ]
  },
  {
   "cell_type": "code",
   "execution_count": null,
   "metadata": {
    "collapsed": true
   },
   "outputs": [],
   "source": [
    "Inicializando agora as variaveis/parametros do algoritmo. Assumindo versao MFCMdd-RWG-S do algoritmo, onde os pesos\n",
    "de cada matriz de dissimilaridade devem somar 1."
   ]
  },
  {
   "cell_type": "code",
   "execution_count": 156,
   "metadata": {
    "collapsed": false
   },
   "outputs": [],
   "source": [
    "# PARAMETROS\n",
    "# Numero de clusters\n",
    "K = 10\n",
    "# Parametro m\n",
    "m = 1.6\n",
    "# Parametro s\n",
    "s = 1\n",
    "# Parametro q\n",
    "q = 3\n",
    "# Numero fixo de iteracoes (retira a necessidade da checagem de estagnacao do algoritmo)\n",
    "T = 100\n",
    "\n",
    "# VARIAVEIS\n",
    "# Iteracao corrente\n",
    "t = 0\n",
    "# Peso de relevancia para cada view - MFCMdd-RWG-S\n",
    "lambdas = np.asarray([1.0] * len(dist_matrixes))\n",
    "# Prototipos - Prototipos sao representados por indices (numero da linha nas matrizes de dissimilaridade)\n",
    "prototypes = []\n",
    "for i in range(0, K):\n",
    "    prototypes.append(np.random.randint(len(dfac_matrix), size=q))\n",
    "prototypes = np.asarray(prototypes)"
   ]
  },
  {
   "cell_type": "code",
   "execution_count": null,
   "metadata": {
    "collapsed": false
   },
   "outputs": [],
   "source": [
    "Implementando a funcao para calcular o grau de pertinencia de um elemento i (element_index) para o cluster k\n",
    "(cluster_index)."
   ]
  },
  {
   "cell_type": "code",
   "execution_count": 139,
   "metadata": {
    "collapsed": true
   },
   "outputs": [],
   "source": [
    "def membership_degree(element_index, cluster_index, lambdas, prototypes, dist_matrixes, s, m):\n",
    "    final_sum = 0\n",
    "    \n",
    "    numerator = 0\n",
    "    for j, lambda_v in enumerate(lambdas):\n",
    "        distances_sum = 0\n",
    "        distance_matrix = dist_matrixes[j]\n",
    "        for prot_element_index in prototypes[cluster_index]:\n",
    "            distances_sum += distance_matrix[element_index][prot_element_index]\n",
    "        numerator += pow(lambda_v, s) * distances_sum\n",
    "    \n",
    "    for h, prototype in enumerate(prototypes):        \n",
    "        denominator = 0\n",
    "        for j, lambda_v in enumerate(lambdas):\n",
    "            distances_sum = 0\n",
    "            distance_matrix = dist_matrixes[j]\n",
    "            for prot_element_index in prototype:\n",
    "                distances_sum += distance_matrix[element_index][prot_element_index]\n",
    "            denominator += pow(lambda_v, s) * distances_sum\n",
    "        final_sum += pow(numerator / denominator, 1.0 / (m - 1))\n",
    "    \n",
    "    return pow(final_sum, -1)"
   ]
  },
  {
   "cell_type": "code",
   "execution_count": null,
   "metadata": {
    "collapsed": true
   },
   "outputs": [],
   "source": [
    "Implementando funçao que atualiza os graus de pertinencia de cada elemento para cada cluster fuzzy."
   ]
  },
  {
   "cell_type": "code",
   "execution_count": 140,
   "metadata": {
    "collapsed": true
   },
   "outputs": [],
   "source": [
    "def update_membership_degrees(membership_degrees, lambdas, prototypes, dist_matrixes, s, m):\n",
    "    for i in range(0, len(membership_degrees)):\n",
    "        for k in range(0, len(membership_degrees[i])):\n",
    "            membership_degrees[i][k] = membership_degree(i, k, lambdas, prototypes, dist_matrixes, s, m)"
   ]
  },
  {
   "cell_type": "code",
   "execution_count": null,
   "metadata": {
    "collapsed": true
   },
   "outputs": [],
   "source": [
    "Implementando funcao que calcula a adequaçao do agrupamento (funcao objetivo que e minimizada)."
   ]
  },
  {
   "cell_type": "code",
   "execution_count": 141,
   "metadata": {
    "collapsed": true
   },
   "outputs": [],
   "source": [
    "def calculate_adequacy_criterion(membership_degrees, lambdas, prototypes, dist_matrixes, s, m):\n",
    "    final_sum = 0\n",
    "    for k, prototype in enumerate(prototypes):\n",
    "        sum2 = 0\n",
    "        for i, membership_degree in enumerate(membership_degrees):\n",
    "            sum1 = 0\n",
    "            for j, lambda_v in enumerate(lambdas):\n",
    "                distances_sum = 0\n",
    "                distance_matrix = dist_matrixes[j]\n",
    "                for prot_element_index in prototype:\n",
    "                    distances_sum += distance_matrix[i][prot_element_index]\n",
    "                sum1 += pow(lambda_v, s) * distances_sum\n",
    "            sum2 += pow(membership_degree[k], m) * sum1\n",
    "        final_sum += sum2\n",
    "    return final_sum"
   ]
  },
  {
   "cell_type": "code",
   "execution_count": null,
   "metadata": {
    "collapsed": true
   },
   "outputs": [],
   "source": [
    "Inicializando matriz de graus de pertinencia de cada elemento para cada cluster com zeros e calculando valores\n",
    "iniciais."
   ]
  },
  {
   "cell_type": "code",
   "execution_count": 165,
   "metadata": {
    "collapsed": false
   },
   "outputs": [],
   "source": [
    "membership_degrees_matrix = np.zeros((len(dfac_matrix), K))\n",
    "update_membership_degrees(membership_degrees_matrix, lambdas, prototypes, dist_matrixes, s, m)"
   ]
  },
  {
   "cell_type": "code",
   "execution_count": null,
   "metadata": {
    "collapsed": true
   },
   "outputs": [],
   "source": [
    "Visualizando a matriz de graus de pertinencia de cada elemento a cada cluster em um heatmap. Abaixo do heatmap\n",
    "fuzzy, encontra-se um heatmap exibindo uma visualizaçao dos mesmos dados em hard clustering, onde o grau de\n",
    "pertinencia mais alto de cada elemento na matriz de graus de pertinencia foi considerado o indicador do cluster\n",
    "ao qual o elemento pertence. Branco significa pertencimento, preto significa nao pertencimento."
   ]
  },
  {
   "cell_type": "code",
   "execution_count": 166,
   "metadata": {
    "collapsed": false,
    "scrolled": true
   },
   "outputs": [
    {
     "name": "stdout",
     "output_type": "stream",
     "text": [
      "[[ 0.10749553  0.08872293  0.12244562 ...,  0.08013986  0.09513338\n",
      "   0.14515405]\n",
      " [ 0.10875802  0.0879805   0.11891294 ...,  0.08172527  0.0965248\n",
      "   0.1417647 ]\n",
      " [ 0.11110502  0.08566511  0.13033988 ...,  0.07711416  0.0961947\n",
      "   0.14579757]\n",
      " ..., \n",
      " [ 0.09756397  0.09969178  0.10354274 ...,  0.10532014  0.09438705\n",
      "   0.09011644]\n",
      " [ 0.10018196  0.0940479   0.1043498  ...,  0.10672797  0.09597263\n",
      "   0.09329734]\n",
      " [ 0.09248296  0.10995779  0.09355394 ...,  0.1038463   0.09082317\n",
      "   0.08328319]]\n"
     ]
    },
    {
     "data": {
      "image/png": "[encoded data removed]",
      "text/plain": [
       "<matplotlib.figure.Figure at 0x7f0900d32a90>"
      ]
     },
     "metadata": {},
     "output_type": "display_data"
    },
    {
     "data": {
      "image/png": "[encoded data removed]",
      "text/plain": [
       "<matplotlib.figure.Figure at 0x7f0900ba87f0>"
      ]
     },
     "metadata": {},
     "output_type": "display_data"
    }
   ],
   "source": [
    "import matplotlib.pyplot as plt\n",
    "import matplotlib as mpl\n",
    "\n",
    "print(membership_degrees_matrix)\n",
    "plt.imshow(membership_degrees_matrix, cmap='hot', interpolation='nearest', aspect='auto',)\n",
    "plt.ylabel('Elements')\n",
    "plt.xlabel('Clusters')\n",
    "plt.title(\"Fuzzy Clustering\")\n",
    "plt.colorbar()\n",
    "plt.show()\n",
    "\n",
    "hard_clustering_matrix = np.zeros_like(membership_degrees_matrix)\n",
    "hard_clustering_matrix[np.arange(len(membership_degrees_matrix)), membership_degrees_matrix.argmax(1)] = 1\n",
    "plt.imshow(hard_clustering_matrix, cmap=mpl.colors.ListedColormap(['k', 'w']), interpolation='nearest', aspect='auto')\n",
    "plt.ylabel('Elements')\n",
    "plt.xlabel('Clusters')\n",
    "plt.title('Hard Clustering')\n",
    "plt.colorbar()\n",
    "plt.show()"
   ]
  },
  {
   "cell_type": "code",
   "execution_count": null,
   "metadata": {
    "collapsed": false
   },
   "outputs": [],
   "source": [
    "Checando se a soma dos graus de pertinencia de cada individuo e 1 com tolerancia de 1e-8 de diferenca, dados os\n",
    "erros de arredondamento. Resultados estao coerentes com a restricao de soma."
   ]
  },
  {
   "cell_type": "code",
   "execution_count": 167,
   "metadata": {
    "collapsed": false,
    "scrolled": true
   },
   "outputs": [
    {
     "name": "stdout",
     "output_type": "stream",
     "text": [
      "True\n"
     ]
    }
   ],
   "source": [
    "print(np.allclose(sum(membership_degrees_matrix.T), np.array([[1] * len(membership_degrees_matrix)]), atol=1e-8))"
   ]
  },
  {
   "cell_type": "code",
   "execution_count": null,
   "metadata": {
    "collapsed": false
   },
   "outputs": [],
   "source": [
    "Calculando o valor da funcao objetivo a ser minimizada."
   ]
  },
  {
   "cell_type": "code",
   "execution_count": 168,
   "metadata": {
    "collapsed": false
   },
   "outputs": [
    {
     "name": "stdout",
     "output_type": "stream",
     "text": [
      "132938.39299\n"
     ]
    }
   ],
   "source": [
    "J = calculate_adequacy_criterion(membership_degrees_matrix, lambdas, prototypes, dist_matrixes, s, m)\n",
    "print(J)"
   ]
  },
  {
   "cell_type": "code",
   "execution_count": null,
   "metadata": {
    "collapsed": true
   },
   "outputs": [],
   "source": [
    "A partir daqui, 3 passos serao intercalados ate um dado numero da iteracoes ser atingido: Definicao dos melhores\n",
    "prototipos, calculo dos pesos das matrizes de dissimilaridade e calculo da matriz dos graus de pertinencia. A\n",
    "ultima funcao ja esta implementada, restando a implementacao das duas primeiras."
   ]
  },
  {
   "cell_type": "code",
   "execution_count": null,
   "metadata": {
    "collapsed": true
   },
   "outputs": [],
   "source": [
    "Implementando funcao de definicao dos melhores prototipos."
   ]
  },
  {
   "cell_type": "code",
   "execution_count": 164,
   "metadata": {
    "collapsed": true
   },
   "outputs": [],
   "source": [
    "def define_prototypes(membership_degrees_matrix, lambdas, dist_matrixes, s, m):\n",
    "    prototypes = []\n",
    "    for k in range(0, K):\n",
    "        new_prototype = []\n",
    "        for q_counter in range(0, q):\n",
    "            min_value = float(\"inf\")\n",
    "            min_index = -1\n",
    "            for h in range(0, len(membership_degrees_matrix)):\n",
    "                total_sum = 0\n",
    "                for i in range(0, len(membership_degrees_matrix)):\n",
    "                    distances_sum = 0\n",
    "                    for j, lambda_v in enumerate(lambdas):\n",
    "                        distances_sum += pow(lambda_v, s) * dist_matrixes[j][i][h]\n",
    "                    total_sum += pow(membership_degrees_matrix[i][k], m) * distances_sum\n",
    "                if total_sum < min_value and h not in new_prototype:\n",
    "                    min_value = total_sum\n",
    "                    min_index = h\n",
    "            new_prototype.append(min_index)\n",
    "        new_prototype = np.asarray(new_prototype)\n",
    "        prototypes.append(new_prototype)\n",
    "    return np.asarray(prototypes)"
   ]
  },
  {
   "cell_type": "code",
   "execution_count": 169,
   "metadata": {
    "collapsed": false
   },
   "outputs": [
    {
     "name": "stdout",
     "output_type": "stream",
     "text": [
      "[[ 692 1784 1689]\n",
      " [ 692 1981 1891]\n",
      " [1784 1689 1677]\n",
      " [ 692  449  436]\n",
      " [ 692 1981 1891]\n",
      " [ 692 1784 1689]\n",
      " [ 692 1891  775]\n",
      " [ 692  775  600]\n",
      " [ 692 1784 1689]\n",
      " [1689 1784 1655]]\n"
     ]
    }
   ],
   "source": [
    "prototypes = define_prototypes(membership_degrees_matrix, lambdas, dist_matrixes, s, m)\n",
    "print(prototypes)"
   ]
  },
  {
   "cell_type": "code",
   "execution_count": 160,
   "metadata": {
    "collapsed": true
   },
   "outputs": [],
   "source": [
    "def calculate_lambda(matrix_index, membership_degrees_matrix, prototypes, dist_matrixes, s, m):\n",
    "    denominator = 0\n",
    "    for k in range(0, K):\n",
    "        sum1 = 0\n",
    "        for i in range(0, len(membership_degrees_matrix)):\n",
    "            distances_sum = 0\n",
    "            distance_matrix = dist_matrixes[matrix_index]\n",
    "            for prot_element_index in prototypes[k]:\n",
    "                distances_sum += distance_matrix[i][prot_element_index]\n",
    "            sum1 += pow(membership_degrees_matrix[i][matrix_index], m) * distances_sum\n",
    "        denominator += sum1\n",
    "    \n",
    "    produtorio = 1    \n",
    "    for h in range(0, len(dist_matrixes)):\n",
    "        sum_ = 0\n",
    "        for k in range(0, K):\n",
    "            for i in range(0, len(membership_degrees_matrix)):\n",
    "                distances_sum = 0\n",
    "                distance_matrix = dist_matrixes[h]\n",
    "                for prot_element_index in prototypes[k]:\n",
    "                    distances_sum += distance_matrix[i][prot_element_index]\n",
    "                sum_ += pow(membership_degrees_matrix[i][matrix_index], m) * distances_sum\n",
    "        produtorio *= pow(sum_, 1.0 / len(dist_matrixes))\n",
    "    \n",
    "    return produtorio / denominator"
   ]
  },
  {
   "cell_type": "code",
   "execution_count": 161,
   "metadata": {
    "collapsed": true
   },
   "outputs": [],
   "source": [
    "def update_lambdas(membership_degrees, lambdas, prototypes, dist_matrixes, s, m):\n",
    "    for j in range(0, len(lambdas)):\n",
    "        lambdas[j] = calculate_lambda(j, membership_degrees, prototypes, dist_matrixes, s, m)"
   ]
  },
  {
   "cell_type": "code",
   "execution_count": 170,
   "metadata": {
    "collapsed": false
   },
   "outputs": [
    {
     "name": "stdout",
     "output_type": "stream",
     "text": [
      "1.006327349\n"
     ]
    }
   ],
   "source": [
    "update_lambdas(membership_degrees_matrix, lambdas, prototypes, dist_matrixes, s, m)\n",
    "print(np.prod(lambdas))"
   ]
  }
 ],
 "metadata": {
  "anaconda-cloud": {},
  "kernelspec": {
   "display_name": "Python [conda root]",
   "language": "python",
   "name": "conda-root-py"
  },
  "language_info": {
   "codemirror_mode": {
    "name": "ipython",
    "version": 3
   },
   "file_extension": ".py",
   "mimetype": "text/x-python",
   "name": "python",
   "nbconvert_exporter": "python",
   "pygments_lexer": "ipython3",
   "version": "3.5.2"
  }
 },
 "nbformat": 4,
 "nbformat_minor": 1
}
