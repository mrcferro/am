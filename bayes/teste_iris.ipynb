{
 "cells": [
  {
   "cell_type": "code",
   "execution_count": 14,
   "metadata": {
    "collapsed": false
   },
   "outputs": [
    {
     "data": {
      "text/plain": [
       "array([0, 0, 0, 0, 0, 0, 0, 0, 0, 0, 0, 0, 0, 0, 0, 0, 0, 0, 0, 0, 0, 0, 0,\n",
       "       0, 0, 0, 0, 0, 0, 0, 0, 0, 0, 0, 0, 0, 0, 0, 0, 0, 0, 0, 0, 0, 0, 0,\n",
       "       0, 0, 0, 0, 1, 1, 1, 1, 1, 1, 1, 1, 1, 1, 1, 1, 1, 1, 1, 1, 1, 1, 1,\n",
       "       1, 1, 1, 1, 1, 1, 1, 1, 1, 1, 1, 1, 1, 1, 1, 1, 1, 1, 1, 1, 1, 1, 1,\n",
       "       1, 1, 1, 1, 1, 1, 1, 1, 2, 2, 2, 2, 2, 2, 2, 2, 2, 2, 2, 2, 2, 2, 2,\n",
       "       2, 2, 2, 2, 2, 2, 2, 2, 2, 2, 2, 2, 2, 2, 2, 2, 2, 2, 2, 2, 2, 2, 2,\n",
       "       2, 2, 2, 2, 2, 2, 2, 2, 2, 2, 2, 2])"
      ]
     },
     "execution_count": 14,
     "metadata": {},
     "output_type": "execute_result"
    }
   ],
   "source": [
    "import engineBayesClassifier as bayes\n",
    "from sklearn import datasets\n",
    "\n",
    "#load database\n",
    "iris = datasets.load_iris()\n",
    "#getting classes\n",
    "classes = iris.target\n",
    "\n",
    "classes"
   ]
  },
  {
   "cell_type": "code",
   "execution_count": null,
   "metadata": {
    "collapsed": true
   },
   "outputs": [],
   "source": [
    "\n",
    "#getting features\n",
    "features = iris.data\n",
    "featuresSetosa = features[0:40,:]\n",
    "featuresVersicolor = features[50:90,:]\n",
    "featuresVirginica = features[100:140,:]\n",
    "entrada = features[142,:]\n",
    "\n",
    "\n"
   ]
  },
  {
   "cell_type": "code",
   "execution_count": null,
   "metadata": {
    "collapsed": true
   },
   "outputs": [],
   "source": [
    "\n",
    "\n",
    "\n",
    "probSetosa = bayes.probabilidadeCondicional(featuresSetosa,entrada)\n",
    "probVersicolor = bayes.probabilidadeCondicional(featuresVersicolor,entrada)\n",
    "probVirginica = bayes.probabilidadeCondicional(featuresVirginica,entrada)\n",
    "print(probSetosa, probVersicolor, probVirginica)\n",
    "if (probSetosa > probVersicolor and probSetosa > probVirginica):\n",
    "    print(\"Setosa\")\n",
    "elif (probVersicolor> probSetosa and probVersicolor> probVirginica):\n",
    "    print(\"Versicolor\")\n",
    "else:\n",
    "    print(\"Virginica\")"
   ]
  }
 ],
 "metadata": {
  "anaconda-cloud": {},
  "kernelspec": {
   "display_name": "Python [default]",
   "language": "python",
   "name": "python3"
  },
  "language_info": {
   "codemirror_mode": {
    "name": "ipython",
    "version": 3
   },
   "file_extension": ".py",
   "mimetype": "text/x-python",
   "name": "python",
   "nbconvert_exporter": "python",
   "pygments_lexer": "ipython3",
   "version": "3.5.2"
  }
 },
 "nbformat": 4,
 "nbformat_minor": 1
}
