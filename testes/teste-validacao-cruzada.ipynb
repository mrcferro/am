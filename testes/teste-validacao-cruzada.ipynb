{
 "cells": [
  {
   "cell_type": "code",
   "execution_count": 2,
   "metadata": {
    "collapsed": false
   },
   "outputs": [
    {
     "name": "stdout",
     "output_type": "stream",
     "text": [
      "Dados:\n",
      "X = \n",
      "[[ 1  2]\n",
      " [ 3  4]\n",
      " [ 5  6]\n",
      " [ 7  8]\n",
      " [ 9 10]\n",
      " [11 12]]\n",
      "y = \n",
      "[0 0 0 1 1 1]\n",
      " \n",
      "Dados embaralhados:\n",
      "X = \n",
      "[[11 12]\n",
      " [ 5  6]\n",
      " [ 9 10]\n",
      " [ 3  4]\n",
      " [ 1  2]\n",
      " [ 7  8]]\n",
      "y = \n",
      "[1 0 1 0 0 1]\n",
      " \n",
      "Folds:\n",
      "StratifiedKFold(n_splits=3, random_state=None, shuffle=False)\n",
      " \n",
      "-------------------------------------------------- \n",
      "Fold 1\n",
      "indice treino = [2 3 4 5], indice teste = [0 1]\n",
      "dados treino = \n",
      "[[ 9 10]\n",
      " [ 3  4]\n",
      " [ 1  2]\n",
      " [ 7  8]]\n",
      " \n",
      "dados teste = \n",
      "[1 0]\n",
      "-------------------------------------------------- \n",
      "Fold 2\n",
      "indice treino = [0 1 4 5], indice teste = [2 3]\n",
      "dados treino = \n",
      "[[11 12]\n",
      " [ 5  6]\n",
      " [ 1  2]\n",
      " [ 7  8]]\n",
      " \n",
      "dados teste = \n",
      "[1 0]\n",
      "-------------------------------------------------- \n",
      "Fold 3\n",
      "indice treino = [0 1 2 3], indice teste = [4 5]\n",
      "dados treino = \n",
      "[[11 12]\n",
      " [ 5  6]\n",
      " [ 9 10]\n",
      " [ 3  4]]\n",
      " \n",
      "dados teste = \n",
      "[0 1]\n"
     ]
    }
   ],
   "source": [
    "# testando a criação de folds - validação cruzada\n",
    "# http://scikit-learn.org/stable/modules/cross_validation.html\n",
    "\n",
    "import numpy as np\n",
    "from sklearn.utils import shuffle\n",
    "from sklearn.model_selection import StratifiedKFold\n",
    "\n",
    "#dados\n",
    "X = np.array([[1, 2], [3, 4], [5, 6], [7, 8], [9,10],[11,12]])\n",
    "y = np.array([0, 0, 0, 1, 1, 1])\n",
    "print (\"Dados:\")\n",
    "print (\"X = \\n\" + str(X))\n",
    "print (\"y = \\n\" + str(y))\n",
    "print (\" \")\n",
    "\n",
    "# embaralha a matriz de dados e as classes ao mesmo tempo\n",
    "xEmbaralhado, yEmbaralhado = shuffle(X, y, random_state=5)\n",
    "print(\"Dados embaralhados:\")\n",
    "print (\"X = \\n\" + str(xEmbaralhado))\n",
    "print (\"y = \\n\" + str(yEmbaralhado))\n",
    "print (\" \")\n",
    "\n",
    "skf = StratifiedKFold(3)\n",
    "print(\"Folds:\")\n",
    "print(skf)  \n",
    "print (\" \")\n",
    "\n",
    "i = 0\n",
    "for indicetreino, indiceteste in skf.split(xEmbaralhado,yEmbaralhado):\n",
    "    i = i + 1\n",
    "    print (\"-------------------------------------------------- \")\n",
    "    print (\"Fold \" + str(i))\n",
    "    print (\"indice treino = \" + str(indicetreino) + \", indice teste = \" + str(indiceteste))\n",
    "    print (\"dados treino = \\n\" + str(xEmbaralhado[indicetreino]))\n",
    "    print (\" \")\n",
    "    print (\"dados teste = \\n\" + str(yEmbaralhado[indiceteste]))\n",
    "   \n"
   ]
  },
  {
   "cell_type": "code",
   "execution_count": null,
   "metadata": {
    "collapsed": true
   },
   "outputs": [],
   "source": []
  },
  {
   "cell_type": "code",
   "execution_count": null,
   "metadata": {
    "collapsed": true
   },
   "outputs": [],
   "source": []
  },
  {
   "cell_type": "code",
   "execution_count": null,
   "metadata": {
    "collapsed": true
   },
   "outputs": [],
   "source": []
  }
 ],
 "metadata": {
  "anaconda-cloud": {},
  "kernelspec": {
   "display_name": "Python [default]",
   "language": "python",
   "name": "python3"
  },
  "language_info": {
   "codemirror_mode": {
    "name": "ipython",
    "version": 3
   },
   "file_extension": ".py",
   "mimetype": "text/x-python",
   "name": "python",
   "nbconvert_exporter": "python",
   "pygments_lexer": "ipython3",
   "version": "3.5.2"
  }
 },
 "nbformat": 4,
 "nbformat_minor": 1
}
